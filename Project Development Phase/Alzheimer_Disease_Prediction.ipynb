{
 "cells": [
  {
   "cell_type": "markdown",
   "metadata": {
    "id": "yoMDFxornbnJ"
   },
   "source": [
    "### Import model building libraries"
   ]
  },
  {
   "cell_type": "code",
   "execution_count": 1,
   "metadata": {
    "id": "_dGXUkSInYAn"
   },
   "outputs": [
    {
     "name": "stderr",
     "output_type": "stream",
     "text": [
      "C:\\Users\\chris\\anaconda3\\Lib\\site-packages\\tensorflow_addons\\utils\\tfa_eol_msg.py:23: UserWarning: \n",
      "\n",
      "TensorFlow Addons (TFA) has ended development and introduction of new features.\n",
      "TFA has entered a minimal maintenance and release mode until a planned end of life in May 2024.\n",
      "Please modify downstream libraries to take dependencies from other repositories in our TensorFlow community (e.g. Keras, Keras-CV, and Keras-NLP). \n",
      "\n",
      "For more information see: https://github.com/tensorflow/addons/issues/2807 \n",
      "\n",
      "  warnings.warn(\n"
     ]
    }
   ],
   "source": [
    "import numpy as np\n",
    "import pandas as pd\n",
    "import tensorflow as tf\n",
    "\n",
    "from keras.preprocessing.image import ImageDataGenerator\n",
    "from imblearn.over_sampling import SMOTE\n",
    "from sklearn.model_selection import train_test_split\n",
    "from sklearn.metrics import classification_report, confusion_matrix\n",
    "\n",
    "from tensorflow.keras import Sequential,Input\n",
    "from tensorflow.keras.layers import Conv2D, Dropout\n",
    "from tensorflow.keras.layers import BatchNormalization, MaxPool2D\n",
    "from tensorflow.keras.layers import Dense, Flatten\n",
    "import tensorflow_addons as tfa\n",
    "\n",
    "from tensorflow.keras.models import load_model\n",
    "from tensorflow.keras.preprocessing import image"
   ]
  },
  {
   "cell_type": "markdown",
   "metadata": {
    "id": "vnO81u5in4hh"
   },
   "source": [
    "## Image Preprocessing"
   ]
  },
  {
   "cell_type": "code",
   "execution_count": 2,
   "metadata": {
    "id": "6v-ulnCkdSGx"
   },
   "outputs": [],
   "source": [
    "import os\n",
    "import shutil\n",
    "\n",
    "dataset_path = r\"Alzheimer_s Dataset\"\n",
    "\n",
    "combined_dataset_path = r\"Dataset\"\n",
    "\n",
    "# Create the combined dataset folder if it doesn't exist\n",
    "os.makedirs(combined_dataset_path, exist_ok=True)\n",
    "\n",
    "# List of class folders to combine\n",
    "class_folders = [\"VeryMildDemented\", \"NonDemented\", \"MildDemented\", \"ModerateDemented\"]\n",
    "\n",
    "# Iterate through the \"train\" and \"test\" folders\n",
    "for folder_name in [\"train\", \"test\"]:\n",
    "    folder_path = os.path.join(dataset_path, folder_name)\n",
    "    \n",
    "    # Iterate through the class folders\n",
    "    for class_folder in class_folders:\n",
    "        class_path = os.path.join(folder_path, class_folder)\n",
    "        \n",
    "        # Iterate through the files in each class folder\n",
    "        for file_name in os.listdir(class_path):\n",
    "            file_path = os.path.join(class_path, file_name)\n",
    "            \n",
    "            # Copy the file to the combined dataset folder\n",
    "            destination_path = os.path.join(combined_dataset_path, class_folder, file_name)\n",
    "            os.makedirs(os.path.dirname(destination_path), exist_ok=True)\n",
    "            shutil.copy(file_path, destination_path)"
   ]
  },
  {
   "cell_type": "code",
   "execution_count": 4,
   "metadata": {
    "id": "3CQBCFWeogrN"
   },
   "outputs": [],
   "source": [
    "#2. Configure image data generator\n",
    "IMG_SIZE = 176\n",
    "IMAGE_SIZE = [176,176]\n",
    "DIM = (IMG_SIZE, IMG_SIZE)\n",
    "\n",
    "ZOOM = [.99, 1.01]\n",
    "BRIGHTNESS = [0.8, 1.2]\n",
    "FILL_MODE = \"constant\"\n",
    "DATA_FORMAT = \"channels_last\"\n",
    "train_datagen = ImageDataGenerator(rescale = 1./255, brightness_range=BRIGHTNESS, zoom_range=ZOOM, data_format=DATA_FORMAT, fill_mode=FILL_MODE, horizontal_flip=True)"
   ]
  },
  {
   "cell_type": "code",
   "execution_count": 5,
   "metadata": {
    "colab": {
     "base_uri": "https://localhost:8080/"
    },
    "id": "zNH6stCMpJFn",
    "outputId": "7713dedc-98b1-482f-dc8a-5c34b413dafc"
   },
   "outputs": [
    {
     "name": "stdout",
     "output_type": "stream",
     "text": [
      "Found 6400 images belonging to 4 classes.\n"
     ]
    }
   ],
   "source": [
    "#3. Apply image data generator functionality to train and test images\n",
    "x_train = train_datagen.flow_from_directory(r\"C:\\Users\\chris\\Downloads\\ADP Project\\Dataset\",target_size=DIM, batch_size=6500, shuffle=False)"
   ]
  },
  {
   "cell_type": "code",
   "execution_count": 6,
   "metadata": {
    "colab": {
     "base_uri": "https://localhost:8080/"
    },
    "id": "87rUehBnYcg2",
    "outputId": "2b1984ca-762b-4562-ab59-2032d6a3292b"
   },
   "outputs": [
    {
     "name": "stdout",
     "output_type": "stream",
     "text": [
      "(6400, 176, 176, 3) (6400, 4)\n"
     ]
    }
   ],
   "source": [
    "train_data, train_labels = x_train.next()\n",
    "print(train_data.shape, train_labels.shape)"
   ]
  },
  {
   "cell_type": "code",
   "execution_count": 7,
   "metadata": {
    "colab": {
     "base_uri": "https://localhost:8080/"
    },
    "id": "CO_WsnMEp-Ea",
    "outputId": "b7aff565-871a-4616-90d0-a7419d23aad4"
   },
   "outputs": [
    {
     "name": "stdout",
     "output_type": "stream",
     "text": [
      "{'MildDemented': 0, 'ModerateDemented': 1, 'NonDemented': 2, 'VeryMildDemented': 3}\n"
     ]
    }
   ],
   "source": [
    "print(x_train.class_indices)"
   ]
  },
  {
   "cell_type": "code",
   "execution_count": 8,
   "metadata": {
    "id": "JZ1JfHiVfsYQ"
   },
   "outputs": [
    {
     "name": "stdout",
     "output_type": "stream",
     "text": [
      "(12800, 176, 176, 3) (12800, 4)\n"
     ]
    }
   ],
   "source": [
    "#Performing over-sampling of the data, since the classes are imbalanced\n",
    "sm = SMOTE(random_state=42)\n",
    "train_data, train_labels = sm.fit_resample(train_data.reshape(-1, IMG_SIZE * IMG_SIZE * 3), train_labels)\n",
    "train_data = train_data.reshape(-1, IMG_SIZE, IMG_SIZE, 3)\n",
    "print(train_data.shape, train_labels.shape)"
   ]
  },
  {
   "cell_type": "code",
   "execution_count": 9,
   "metadata": {
    "id": "bzCcvnweihNW"
   },
   "outputs": [],
   "source": [
    "#Splitting the data into train, test, and validation sets\n",
    "train_data, test_data, train_labels, test_labels = train_test_split(train_data, train_labels, test_size = 0.2, random_state=42)\n",
    "train_data, val_data, train_labels, val_labels = train_test_split(train_data, train_labels, test_size = 0.2, random_state=42)"
   ]
  },
  {
   "cell_type": "markdown",
   "metadata": {
    "id": "qjjtCeedrFM1"
   },
   "source": [
    "## Model Building"
   ]
  },
  {
   "cell_type": "code",
   "execution_count": 10,
   "metadata": {},
   "outputs": [],
   "source": [
    "def conv_block(filters, act='relu'):\n",
    "    \"\"\"Defining a Convolutional NN block for a Sequential CNN model. \"\"\"\n",
    "    \n",
    "    block = Sequential()\n",
    "    block.add(Conv2D(filters, 3, activation=act, padding='same'))\n",
    "    block.add(Conv2D(filters, 3, activation=act, padding='same'))\n",
    "    block.add(BatchNormalization())\n",
    "    block.add(MaxPool2D())\n",
    "    \n",
    "    return block"
   ]
  },
  {
   "cell_type": "code",
   "execution_count": 11,
   "metadata": {},
   "outputs": [],
   "source": [
    "def dense_block(units, dropout_rate, act='relu'):\n",
    "    \"\"\"Defining a Dense NN block for a Sequential CNN model. \"\"\"\n",
    "    \n",
    "    block = Sequential()\n",
    "    block.add(Dense(units, activation=act))\n",
    "    block.add(BatchNormalization())\n",
    "    block.add(Dropout(dropout_rate))\n",
    "    \n",
    "    return block"
   ]
  },
  {
   "cell_type": "code",
   "execution_count": 12,
   "metadata": {},
   "outputs": [],
   "source": [
    "def construct_model(act='relu'):\n",
    "    \"\"\"Constructing a Sequential CNN architecture for performing the classification task. \"\"\"\n",
    "    \n",
    "    model = Sequential([\n",
    "        Input(shape=(*IMAGE_SIZE, 3)),\n",
    "        Conv2D(16, 3, activation=act, padding='same'),\n",
    "        Conv2D(16, 3, activation=act, padding='same'),\n",
    "        MaxPool2D(),\n",
    "        conv_block(32),\n",
    "        conv_block(64),\n",
    "        conv_block(128),\n",
    "        Dropout(0.2),\n",
    "        conv_block(256),\n",
    "        Dropout(0.2),\n",
    "        Flatten(),\n",
    "        dense_block(512, 0.7),\n",
    "        dense_block(128, 0.5),\n",
    "        dense_block(64, 0.3),\n",
    "        Dense(4, activation='softmax')        \n",
    "    ], name = \"cnn_model\")\n",
    "\n",
    "    return model"
   ]
  },
  {
   "cell_type": "code",
   "execution_count": 13,
   "metadata": {},
   "outputs": [],
   "source": [
    "model = construct_model()"
   ]
  },
  {
   "cell_type": "code",
   "execution_count": 14,
   "metadata": {},
   "outputs": [],
   "source": [
    "METRICS = [tf.keras.metrics.CategoricalAccuracy(name='acc'),tf.keras.metrics.AUC(name='auc'),tfa.metrics.F1Score(num_classes=4)]\n",
    "model.compile(optimizer='adam',loss=tf.losses.CategoricalCrossentropy(),metrics=METRICS)"
   ]
  },
  {
   "cell_type": "code",
   "execution_count": 15,
   "metadata": {},
   "outputs": [],
   "source": [
    "#Defining a custom callback function to stop training our model when accuracy goes above 99%\n",
    "\n",
    "class MyCallback(tf.keras.callbacks.Callback):\n",
    "    def on_epoch_end(self, epoch, logs={}):\n",
    "        if logs.get('val_acc') > 0.99:\n",
    "            print(\"\\nReached accuracy threshold! Terminating training.\")\n",
    "            self.model.stop_training = True\n",
    "            \n",
    "my_callback = MyCallback()"
   ]
  },
  {
   "cell_type": "code",
   "execution_count": 16,
   "metadata": {},
   "outputs": [
    {
     "name": "stdout",
     "output_type": "stream",
     "text": [
      "Epoch 1/100\n",
      "256/256 [==============================] - 494s 2s/step - loss: 1.6221 - acc: 0.3359 - auc: 0.5929 - f1_score: 0.3314 - val_loss: 1.7167 - val_acc: 0.2627 - val_auc: 0.5109 - val_f1_score: 0.1635\n",
      "Epoch 2/100\n",
      "256/256 [==============================] - 478s 2s/step - loss: 1.0226 - acc: 0.5470 - auc: 0.8125 - f1_score: 0.5353 - val_loss: 0.9580 - val_acc: 0.4839 - val_auc: 0.8260 - val_f1_score: 0.4089\n",
      "Epoch 3/100\n",
      "256/256 [==============================] - 462s 2s/step - loss: 0.8192 - acc: 0.6168 - auc: 0.8750 - f1_score: 0.6084 - val_loss: 1.3420 - val_acc: 0.5298 - val_auc: 0.7918 - val_f1_score: 0.4478\n",
      "Epoch 4/100\n",
      "256/256 [==============================] - 535s 2s/step - loss: 0.7540 - acc: 0.6484 - auc: 0.8937 - f1_score: 0.6390 - val_loss: 1.7164 - val_acc: 0.2905 - val_auc: 0.6131 - val_f1_score: 0.2062\n",
      "Epoch 5/100\n",
      "256/256 [==============================] - 467s 2s/step - loss: 0.7083 - acc: 0.6641 - auc: 0.9056 - f1_score: 0.6560 - val_loss: 0.8022 - val_acc: 0.6353 - val_auc: 0.8831 - val_f1_score: 0.6391\n",
      "Epoch 6/100\n",
      "256/256 [==============================] - 430s 2s/step - loss: 0.6598 - acc: 0.6986 - auc: 0.9189 - f1_score: 0.6925 - val_loss: 2.4333 - val_acc: 0.3457 - val_auc: 0.6070 - val_f1_score: 0.2716\n",
      "Epoch 7/100\n",
      "256/256 [==============================] - 430s 2s/step - loss: 0.5884 - acc: 0.7314 - auc: 0.9357 - f1_score: 0.7275 - val_loss: 0.8695 - val_acc: 0.5840 - val_auc: 0.8700 - val_f1_score: 0.5567\n",
      "Epoch 8/100\n",
      "256/256 [==============================] - 424s 2s/step - loss: 0.5647 - acc: 0.7471 - auc: 0.9412 - f1_score: 0.7453 - val_loss: 1.1449 - val_acc: 0.5732 - val_auc: 0.8332 - val_f1_score: 0.5609\n",
      "Epoch 9/100\n",
      "256/256 [==============================] - 430s 2s/step - loss: 0.5326 - acc: 0.7650 - auc: 0.9476 - f1_score: 0.7642 - val_loss: 1.8855 - val_acc: 0.4102 - val_auc: 0.7357 - val_f1_score: 0.3081\n",
      "Epoch 10/100\n",
      "256/256 [==============================] - 424s 2s/step - loss: 0.4948 - acc: 0.7856 - auc: 0.9552 - f1_score: 0.7852 - val_loss: 1.3753 - val_acc: 0.4995 - val_auc: 0.8171 - val_f1_score: 0.4291\n",
      "Epoch 11/100\n",
      "256/256 [==============================] - 426s 2s/step - loss: 0.4542 - acc: 0.8032 - auc: 0.9617 - f1_score: 0.8030 - val_loss: 1.0018 - val_acc: 0.6108 - val_auc: 0.8761 - val_f1_score: 0.5792\n",
      "Epoch 12/100\n",
      "256/256 [==============================] - 424s 2s/step - loss: 0.4395 - acc: 0.8104 - auc: 0.9642 - f1_score: 0.8103 - val_loss: 1.6533 - val_acc: 0.5352 - val_auc: 0.8491 - val_f1_score: 0.4448\n",
      "Epoch 13/100\n",
      "256/256 [==============================] - 431s 2s/step - loss: 0.3815 - acc: 0.8409 - auc: 0.9732 - f1_score: 0.8406 - val_loss: 0.7381 - val_acc: 0.6992 - val_auc: 0.9280 - val_f1_score: 0.6668\n",
      "Epoch 14/100\n",
      "256/256 [==============================] - 426s 2s/step - loss: 0.3629 - acc: 0.8540 - auc: 0.9754 - f1_score: 0.8541 - val_loss: 1.0593 - val_acc: 0.5850 - val_auc: 0.8555 - val_f1_score: 0.6050\n",
      "Epoch 15/100\n",
      "256/256 [==============================] - 432s 2s/step - loss: 0.3700 - acc: 0.8497 - auc: 0.9744 - f1_score: 0.8496 - val_loss: 0.4013 - val_acc: 0.8350 - val_auc: 0.9702 - val_f1_score: 0.8311\n",
      "Epoch 16/100\n",
      "256/256 [==============================] - 429s 2s/step - loss: 0.3173 - acc: 0.8726 - auc: 0.9811 - f1_score: 0.8723 - val_loss: 0.4079 - val_acc: 0.8208 - val_auc: 0.9719 - val_f1_score: 0.8116\n",
      "Epoch 17/100\n",
      "256/256 [==============================] - 425s 2s/step - loss: 0.2637 - acc: 0.8984 - auc: 0.9868 - f1_score: 0.8982 - val_loss: 0.2826 - val_acc: 0.8848 - val_auc: 0.9851 - val_f1_score: 0.8828\n",
      "Epoch 18/100\n",
      "256/256 [==============================] - 430s 2s/step - loss: 0.2351 - acc: 0.9108 - auc: 0.9891 - f1_score: 0.9107 - val_loss: 0.5720 - val_acc: 0.7881 - val_auc: 0.9651 - val_f1_score: 0.7599\n",
      "Epoch 19/100\n",
      "256/256 [==============================] - 424s 2s/step - loss: 0.2041 - acc: 0.9280 - auc: 0.9914 - f1_score: 0.9279 - val_loss: 0.5506 - val_acc: 0.8096 - val_auc: 0.9605 - val_f1_score: 0.8119\n",
      "Epoch 20/100\n",
      "256/256 [==============================] - 423s 2s/step - loss: 0.1694 - acc: 0.9396 - auc: 0.9938 - f1_score: 0.9395 - val_loss: 0.8430 - val_acc: 0.7339 - val_auc: 0.9256 - val_f1_score: 0.7181\n",
      "Epoch 21/100\n",
      "256/256 [==============================] - 423s 2s/step - loss: 0.1708 - acc: 0.9402 - auc: 0.9941 - f1_score: 0.9401 - val_loss: 0.3194 - val_acc: 0.8804 - val_auc: 0.9833 - val_f1_score: 0.8807\n",
      "Epoch 22/100\n",
      "256/256 [==============================] - 424s 2s/step - loss: 0.1390 - acc: 0.9539 - auc: 0.9954 - f1_score: 0.9538 - val_loss: 0.4844 - val_acc: 0.8613 - val_auc: 0.9720 - val_f1_score: 0.8563\n",
      "Epoch 23/100\n",
      "256/256 [==============================] - 423s 2s/step - loss: 0.1456 - acc: 0.9525 - auc: 0.9951 - f1_score: 0.9524 - val_loss: 0.3032 - val_acc: 0.8926 - val_auc: 0.9866 - val_f1_score: 0.8894\n",
      "Epoch 24/100\n",
      "256/256 [==============================] - 428s 2s/step - loss: 0.1236 - acc: 0.9597 - auc: 0.9964 - f1_score: 0.9597 - val_loss: 0.4535 - val_acc: 0.8545 - val_auc: 0.9736 - val_f1_score: 0.8539\n",
      "Epoch 25/100\n",
      "256/256 [==============================] - 423s 2s/step - loss: 0.1155 - acc: 0.9617 - auc: 0.9967 - f1_score: 0.9617 - val_loss: 0.7417 - val_acc: 0.8052 - val_auc: 0.9459 - val_f1_score: 0.7923\n",
      "Epoch 26/100\n",
      "256/256 [==============================] - 467s 2s/step - loss: 0.1010 - acc: 0.9652 - auc: 0.9973 - f1_score: 0.9652 - val_loss: 0.2190 - val_acc: 0.9258 - val_auc: 0.9898 - val_f1_score: 0.9258\n",
      "Epoch 27/100\n",
      "256/256 [==============================] - 477s 2s/step - loss: 0.0861 - acc: 0.9701 - auc: 0.9981 - f1_score: 0.9700 - val_loss: 0.4644 - val_acc: 0.8623 - val_auc: 0.9685 - val_f1_score: 0.8647\n",
      "Epoch 28/100\n",
      "256/256 [==============================] - 469s 2s/step - loss: 0.1016 - acc: 0.9655 - auc: 0.9970 - f1_score: 0.9654 - val_loss: 0.2392 - val_acc: 0.9199 - val_auc: 0.9892 - val_f1_score: 0.9202\n",
      "Epoch 29/100\n",
      "256/256 [==============================] - 466s 2s/step - loss: 0.0850 - acc: 0.9703 - auc: 0.9981 - f1_score: 0.9703 - val_loss: 0.3455 - val_acc: 0.9009 - val_auc: 0.9803 - val_f1_score: 0.8994\n",
      "Epoch 30/100\n",
      "256/256 [==============================] - 454s 2s/step - loss: 0.1085 - acc: 0.9619 - auc: 0.9967 - f1_score: 0.9619 - val_loss: 0.4665 - val_acc: 0.8496 - val_auc: 0.9730 - val_f1_score: 0.8403\n",
      "Epoch 31/100\n",
      "256/256 [==============================] - 445s 2s/step - loss: 0.0756 - acc: 0.9736 - auc: 0.9985 - f1_score: 0.9736 - val_loss: 0.3141 - val_acc: 0.9131 - val_auc: 0.9849 - val_f1_score: 0.9122\n",
      "Epoch 32/100\n",
      "256/256 [==============================] - 518s 2s/step - loss: 0.0791 - acc: 0.9742 - auc: 0.9983 - f1_score: 0.9742 - val_loss: 0.4987 - val_acc: 0.8472 - val_auc: 0.9660 - val_f1_score: 0.8486\n",
      "Epoch 33/100\n",
      "256/256 [==============================] - 507s 2s/step - loss: 0.0792 - acc: 0.9753 - auc: 0.9981 - f1_score: 0.9753 - val_loss: 0.2332 - val_acc: 0.9297 - val_auc: 0.9887 - val_f1_score: 0.9295\n",
      "Epoch 34/100\n",
      "256/256 [==============================] - 507s 2s/step - loss: 0.0933 - acc: 0.9705 - auc: 0.9967 - f1_score: 0.9705 - val_loss: 0.2311 - val_acc: 0.9326 - val_auc: 0.9883 - val_f1_score: 0.9325\n",
      "Epoch 35/100\n",
      "256/256 [==============================] - 500s 2s/step - loss: 0.0538 - acc: 0.9839 - auc: 0.9987 - f1_score: 0.9839 - val_loss: 0.3901 - val_acc: 0.8979 - val_auc: 0.9738 - val_f1_score: 0.8939\n",
      "Epoch 36/100\n",
      "256/256 [==============================] - 504s 2s/step - loss: 0.0436 - acc: 0.9862 - auc: 0.9991 - f1_score: 0.9862 - val_loss: 0.3433 - val_acc: 0.9077 - val_auc: 0.9812 - val_f1_score: 0.9081\n",
      "Epoch 37/100\n",
      "256/256 [==============================] - 504s 2s/step - loss: 0.0607 - acc: 0.9800 - auc: 0.9987 - f1_score: 0.9800 - val_loss: 0.8201 - val_acc: 0.7959 - val_auc: 0.9365 - val_f1_score: 0.7944\n",
      "Epoch 38/100\n",
      "256/256 [==============================] - 472s 2s/step - loss: 0.0717 - acc: 0.9769 - auc: 0.9985 - f1_score: 0.9769 - val_loss: 0.2402 - val_acc: 0.9302 - val_auc: 0.9882 - val_f1_score: 0.9309\n",
      "Epoch 39/100\n",
      "256/256 [==============================] - 430s 2s/step - loss: 0.0550 - acc: 0.9834 - auc: 0.9985 - f1_score: 0.9834 - val_loss: 0.2652 - val_acc: 0.9219 - val_auc: 0.9863 - val_f1_score: 0.9210\n",
      "Epoch 40/100\n",
      "256/256 [==============================] - 427s 2s/step - loss: 0.0573 - acc: 0.9808 - auc: 0.9988 - f1_score: 0.9808 - val_loss: 0.2961 - val_acc: 0.9111 - val_auc: 0.9841 - val_f1_score: 0.9094\n",
      "Epoch 41/100\n",
      "256/256 [==============================] - 423s 2s/step - loss: 0.0486 - acc: 0.9841 - auc: 0.9993 - f1_score: 0.9841 - val_loss: 0.3764 - val_acc: 0.9058 - val_auc: 0.9749 - val_f1_score: 0.9065\n",
      "Epoch 42/100\n",
      "256/256 [==============================] - 424s 2s/step - loss: 0.0406 - acc: 0.9873 - auc: 0.9993 - f1_score: 0.9873 - val_loss: 0.2465 - val_acc: 0.9336 - val_auc: 0.9872 - val_f1_score: 0.9339\n",
      "Epoch 43/100\n",
      "256/256 [==============================] - 421s 2s/step - loss: 0.0581 - acc: 0.9817 - auc: 0.9986 - f1_score: 0.9817 - val_loss: 0.2487 - val_acc: 0.9282 - val_auc: 0.9877 - val_f1_score: 0.9282\n",
      "Epoch 44/100\n",
      "256/256 [==============================] - 424s 2s/step - loss: 0.0524 - acc: 0.9825 - auc: 0.9990 - f1_score: 0.9825 - val_loss: 0.2355 - val_acc: 0.9277 - val_auc: 0.9888 - val_f1_score: 0.9266\n",
      "Epoch 45/100\n",
      "256/256 [==============================] - 421s 2s/step - loss: 0.0497 - acc: 0.9830 - auc: 0.9991 - f1_score: 0.9830 - val_loss: 0.2836 - val_acc: 0.9165 - val_auc: 0.9857 - val_f1_score: 0.9163\n",
      "Epoch 46/100\n",
      "256/256 [==============================] - 426s 2s/step - loss: 0.0443 - acc: 0.9839 - auc: 0.9993 - f1_score: 0.9839 - val_loss: 0.2193 - val_acc: 0.9355 - val_auc: 0.9890 - val_f1_score: 0.9352\n",
      "Epoch 47/100\n",
      "256/256 [==============================] - 424s 2s/step - loss: 0.0451 - acc: 0.9872 - auc: 0.9989 - f1_score: 0.9872 - val_loss: 0.2481 - val_acc: 0.9302 - val_auc: 0.9873 - val_f1_score: 0.9290\n",
      "Epoch 48/100\n",
      "256/256 [==============================] - 424s 2s/step - loss: 0.0323 - acc: 0.9908 - auc: 0.9995 - f1_score: 0.9908 - val_loss: 0.3709 - val_acc: 0.8955 - val_auc: 0.9780 - val_f1_score: 0.8964\n",
      "Epoch 49/100\n",
      "256/256 [==============================] - 425s 2s/step - loss: 0.0478 - acc: 0.9856 - auc: 0.9989 - f1_score: 0.9856 - val_loss: 0.2673 - val_acc: 0.9209 - val_auc: 0.9863 - val_f1_score: 0.9203\n",
      "Epoch 50/100\n",
      "256/256 [==============================] - 423s 2s/step - loss: 0.0402 - acc: 0.9861 - auc: 0.9995 - f1_score: 0.9861 - val_loss: 0.2693 - val_acc: 0.9331 - val_auc: 0.9845 - val_f1_score: 0.9324\n",
      "Epoch 51/100\n",
      "256/256 [==============================] - 425s 2s/step - loss: 0.0360 - acc: 0.9885 - auc: 0.9995 - f1_score: 0.9885 - val_loss: 0.4779 - val_acc: 0.8916 - val_auc: 0.9684 - val_f1_score: 0.8864\n",
      "Epoch 52/100\n",
      "256/256 [==============================] - 421s 2s/step - loss: 0.0472 - acc: 0.9846 - auc: 0.9991 - f1_score: 0.9846 - val_loss: 0.3022 - val_acc: 0.9180 - val_auc: 0.9818 - val_f1_score: 0.9166\n",
      "Epoch 53/100\n",
      "256/256 [==============================] - 426s 2s/step - loss: 0.0375 - acc: 0.9885 - auc: 0.9990 - f1_score: 0.9885 - val_loss: 0.2336 - val_acc: 0.9424 - val_auc: 0.9863 - val_f1_score: 0.9417\n",
      "Epoch 54/100\n",
      "256/256 [==============================] - 423s 2s/step - loss: 0.0245 - acc: 0.9917 - auc: 0.9998 - f1_score: 0.9917 - val_loss: 0.3942 - val_acc: 0.9058 - val_auc: 0.9773 - val_f1_score: 0.9039\n",
      "Epoch 55/100\n",
      "256/256 [==============================] - 426s 2s/step - loss: 0.0419 - acc: 0.9879 - auc: 0.9990 - f1_score: 0.9879 - val_loss: 0.3782 - val_acc: 0.9111 - val_auc: 0.9757 - val_f1_score: 0.9119\n",
      "Epoch 56/100\n",
      "256/256 [==============================] - 424s 2s/step - loss: 0.0281 - acc: 0.9911 - auc: 0.9995 - f1_score: 0.9911 - val_loss: 0.1845 - val_acc: 0.9458 - val_auc: 0.9911 - val_f1_score: 0.9456\n",
      "Epoch 57/100\n",
      "256/256 [==============================] - 433s 2s/step - loss: 0.0359 - acc: 0.9895 - auc: 0.9993 - f1_score: 0.9895 - val_loss: 0.4175 - val_acc: 0.8970 - val_auc: 0.9750 - val_f1_score: 0.8948\n",
      "Epoch 58/100\n",
      "256/256 [==============================] - 428s 2s/step - loss: 0.0657 - acc: 0.9796 - auc: 0.9981 - f1_score: 0.9796 - val_loss: 0.3141 - val_acc: 0.8950 - val_auc: 0.9847 - val_f1_score: 0.8960\n",
      "Epoch 59/100\n",
      "256/256 [==============================] - 424s 2s/step - loss: 0.0333 - acc: 0.9905 - auc: 0.9994 - f1_score: 0.9905 - val_loss: 0.2447 - val_acc: 0.9414 - val_auc: 0.9870 - val_f1_score: 0.9416\n",
      "Epoch 60/100\n",
      "256/256 [==============================] - 424s 2s/step - loss: 0.0306 - acc: 0.9911 - auc: 0.9994 - f1_score: 0.9911 - val_loss: 0.3700 - val_acc: 0.9136 - val_auc: 0.9766 - val_f1_score: 0.9117\n",
      "Epoch 61/100\n",
      "256/256 [==============================] - 424s 2s/step - loss: 0.0279 - acc: 0.9913 - auc: 0.9995 - f1_score: 0.9913 - val_loss: 0.2614 - val_acc: 0.9424 - val_auc: 0.9847 - val_f1_score: 0.9415\n",
      "Epoch 62/100\n",
      "256/256 [==============================] - 423s 2s/step - loss: 0.0299 - acc: 0.9902 - auc: 0.9996 - f1_score: 0.9902 - val_loss: 0.2518 - val_acc: 0.9316 - val_auc: 0.9880 - val_f1_score: 0.9317\n",
      "Epoch 63/100\n",
      "256/256 [==============================] - 427s 2s/step - loss: 0.0297 - acc: 0.9921 - auc: 0.9992 - f1_score: 0.9921 - val_loss: 0.3715 - val_acc: 0.9194 - val_auc: 0.9755 - val_f1_score: 0.9177\n",
      "Epoch 64/100\n",
      "256/256 [==============================] - 427s 2s/step - loss: 0.0393 - acc: 0.9882 - auc: 0.9990 - f1_score: 0.9882 - val_loss: 0.2469 - val_acc: 0.9346 - val_auc: 0.9880 - val_f1_score: 0.9336\n",
      "Epoch 65/100\n",
      "256/256 [==============================] - 424s 2s/step - loss: 0.0320 - acc: 0.9900 - auc: 0.9995 - f1_score: 0.9900 - val_loss: 0.2158 - val_acc: 0.9399 - val_auc: 0.9889 - val_f1_score: 0.9395\n",
      "Epoch 66/100\n",
      "256/256 [==============================] - 427s 2s/step - loss: 0.0375 - acc: 0.9873 - auc: 0.9992 - f1_score: 0.9873 - val_loss: 0.2345 - val_acc: 0.9360 - val_auc: 0.9891 - val_f1_score: 0.9357\n",
      "Epoch 67/100\n",
      "256/256 [==============================] - 424s 2s/step - loss: 0.0300 - acc: 0.9906 - auc: 0.9996 - f1_score: 0.9906 - val_loss: 0.2170 - val_acc: 0.9443 - val_auc: 0.9885 - val_f1_score: 0.9437\n",
      "Epoch 68/100\n",
      "256/256 [==============================] - 426s 2s/step - loss: 0.0220 - acc: 0.9938 - auc: 0.9998 - f1_score: 0.9938 - val_loss: 0.4715 - val_acc: 0.8945 - val_auc: 0.9709 - val_f1_score: 0.8937\n",
      "Epoch 69/100\n",
      "256/256 [==============================] - 421s 2s/step - loss: 0.0361 - acc: 0.9890 - auc: 0.9991 - f1_score: 0.9890 - val_loss: 0.4818 - val_acc: 0.8682 - val_auc: 0.9716 - val_f1_score: 0.8710\n",
      "Epoch 70/100\n",
      "256/256 [==============================] - 423s 2s/step - loss: 0.0432 - acc: 0.9883 - auc: 0.9987 - f1_score: 0.9883 - val_loss: 0.3670 - val_acc: 0.9194 - val_auc: 0.9768 - val_f1_score: 0.9178\n",
      "Epoch 71/100\n",
      "256/256 [==============================] - 423s 2s/step - loss: 0.0181 - acc: 0.9949 - auc: 0.9997 - f1_score: 0.9949 - val_loss: 0.2435 - val_acc: 0.9375 - val_auc: 0.9870 - val_f1_score: 0.9378\n",
      "Epoch 72/100\n",
      "256/256 [==============================] - 424s 2s/step - loss: 0.0257 - acc: 0.9927 - auc: 0.9996 - f1_score: 0.9927 - val_loss: 0.2141 - val_acc: 0.9438 - val_auc: 0.9890 - val_f1_score: 0.9439\n",
      "Epoch 73/100\n",
      "256/256 [==============================] - 423s 2s/step - loss: 0.0278 - acc: 0.9913 - auc: 0.9994 - f1_score: 0.9913 - val_loss: 0.3434 - val_acc: 0.9150 - val_auc: 0.9804 - val_f1_score: 0.9152\n",
      "Epoch 74/100\n",
      "256/256 [==============================] - 424s 2s/step - loss: 0.0234 - acc: 0.9934 - auc: 0.9994 - f1_score: 0.9934 - val_loss: 0.2262 - val_acc: 0.9438 - val_auc: 0.9877 - val_f1_score: 0.9440\n",
      "Epoch 75/100\n",
      "256/256 [==============================] - 423s 2s/step - loss: 0.0189 - acc: 0.9945 - auc: 0.9997 - f1_score: 0.9945 - val_loss: 0.3229 - val_acc: 0.9341 - val_auc: 0.9802 - val_f1_score: 0.9329\n",
      "Epoch 76/100\n",
      "256/256 [==============================] - 422s 2s/step - loss: 0.0362 - acc: 0.9891 - auc: 0.9992 - f1_score: 0.9891 - val_loss: 0.2652 - val_acc: 0.9292 - val_auc: 0.9844 - val_f1_score: 0.9280\n",
      "Epoch 77/100\n",
      "256/256 [==============================] - 425s 2s/step - loss: 0.0314 - acc: 0.9907 - auc: 0.9995 - f1_score: 0.9907 - val_loss: 0.2731 - val_acc: 0.9355 - val_auc: 0.9841 - val_f1_score: 0.9356\n",
      "Epoch 78/100\n",
      "256/256 [==============================] - 421s 2s/step - loss: 0.0191 - acc: 0.9933 - auc: 0.9997 - f1_score: 0.9933 - val_loss: 0.2984 - val_acc: 0.9204 - val_auc: 0.9841 - val_f1_score: 0.9211\n",
      "Epoch 79/100\n"
     ]
    },
    {
     "name": "stdout",
     "output_type": "stream",
     "text": [
      "256/256 [==============================] - 421s 2s/step - loss: 0.0205 - acc: 0.9938 - auc: 0.9998 - f1_score: 0.9938 - val_loss: 0.2649 - val_acc: 0.9326 - val_auc: 0.9870 - val_f1_score: 0.9330\n",
      "Epoch 80/100\n",
      "256/256 [==============================] - 422s 2s/step - loss: 0.0258 - acc: 0.9905 - auc: 0.9997 - f1_score: 0.9905 - val_loss: 0.2379 - val_acc: 0.9429 - val_auc: 0.9867 - val_f1_score: 0.9431\n",
      "Epoch 81/100\n",
      "256/256 [==============================] - 423s 2s/step - loss: 0.0269 - acc: 0.9906 - auc: 0.9995 - f1_score: 0.9906 - val_loss: 0.2482 - val_acc: 0.9351 - val_auc: 0.9865 - val_f1_score: 0.9343\n",
      "Epoch 82/100\n",
      "256/256 [==============================] - 423s 2s/step - loss: 0.0149 - acc: 0.9950 - auc: 0.9998 - f1_score: 0.9950 - val_loss: 0.2552 - val_acc: 0.9399 - val_auc: 0.9857 - val_f1_score: 0.9397\n",
      "Epoch 83/100\n",
      "256/256 [==============================] - 423s 2s/step - loss: 0.0205 - acc: 0.9945 - auc: 0.9996 - f1_score: 0.9945 - val_loss: 0.4770 - val_acc: 0.8960 - val_auc: 0.9712 - val_f1_score: 0.8945\n",
      "Epoch 84/100\n",
      "256/256 [==============================] - 423s 2s/step - loss: 0.0278 - acc: 0.9923 - auc: 0.9992 - f1_score: 0.9923 - val_loss: 0.5037 - val_acc: 0.8770 - val_auc: 0.9674 - val_f1_score: 0.8795\n",
      "Epoch 85/100\n",
      "256/256 [==============================] - 426s 2s/step - loss: 0.0237 - acc: 0.9929 - auc: 0.9995 - f1_score: 0.9929 - val_loss: 0.2431 - val_acc: 0.9443 - val_auc: 0.9871 - val_f1_score: 0.9440\n",
      "Epoch 86/100\n",
      "256/256 [==============================] - 422s 2s/step - loss: 0.0165 - acc: 0.9952 - auc: 0.9996 - f1_score: 0.9952 - val_loss: 0.2731 - val_acc: 0.9419 - val_auc: 0.9831 - val_f1_score: 0.9413\n",
      "Epoch 87/100\n",
      "256/256 [==============================] - 422s 2s/step - loss: 0.0167 - acc: 0.9951 - auc: 0.9998 - f1_score: 0.9951 - val_loss: 0.2741 - val_acc: 0.9380 - val_auc: 0.9854 - val_f1_score: 0.9382\n",
      "Epoch 88/100\n",
      "256/256 [==============================] - 421s 2s/step - loss: 0.0403 - acc: 0.9882 - auc: 0.9992 - f1_score: 0.9881 - val_loss: 0.2632 - val_acc: 0.9409 - val_auc: 0.9841 - val_f1_score: 0.9407\n",
      "Epoch 89/100\n",
      "256/256 [==============================] - 423s 2s/step - loss: 0.0192 - acc: 0.9946 - auc: 0.9996 - f1_score: 0.9946 - val_loss: 0.2075 - val_acc: 0.9497 - val_auc: 0.9880 - val_f1_score: 0.9494\n",
      "Epoch 90/100\n",
      "256/256 [==============================] - 423s 2s/step - loss: 0.0051 - acc: 0.9985 - auc: 0.9999 - f1_score: 0.9985 - val_loss: 0.2243 - val_acc: 0.9551 - val_auc: 0.9855 - val_f1_score: 0.9548\n",
      "Epoch 91/100\n",
      "256/256 [==============================] - 422s 2s/step - loss: 0.0086 - acc: 0.9974 - auc: 0.9998 - f1_score: 0.9974 - val_loss: 0.3636 - val_acc: 0.9321 - val_auc: 0.9757 - val_f1_score: 0.9309\n",
      "Epoch 92/100\n",
      "256/256 [==============================] - 423s 2s/step - loss: 0.0308 - acc: 0.9911 - auc: 0.9992 - f1_score: 0.9911 - val_loss: 0.2578 - val_acc: 0.9390 - val_auc: 0.9852 - val_f1_score: 0.9391\n",
      "Epoch 93/100\n",
      "256/256 [==============================] - 425s 2s/step - loss: 0.0223 - acc: 0.9924 - auc: 0.9995 - f1_score: 0.9924 - val_loss: 0.4098 - val_acc: 0.9097 - val_auc: 0.9729 - val_f1_score: 0.9071\n",
      "Epoch 94/100\n",
      "256/256 [==============================] - 422s 2s/step - loss: 0.0192 - acc: 0.9932 - auc: 0.9999 - f1_score: 0.9932 - val_loss: 0.3231 - val_acc: 0.9316 - val_auc: 0.9792 - val_f1_score: 0.9299\n",
      "Epoch 95/100\n",
      "256/256 [==============================] - 422s 2s/step - loss: 0.0185 - acc: 0.9938 - auc: 0.9998 - f1_score: 0.9938 - val_loss: 0.3085 - val_acc: 0.9302 - val_auc: 0.9819 - val_f1_score: 0.9304\n",
      "Epoch 96/100\n",
      "256/256 [==============================] - 423s 2s/step - loss: 0.0193 - acc: 0.9941 - auc: 0.9998 - f1_score: 0.9941 - val_loss: 0.3916 - val_acc: 0.9141 - val_auc: 0.9750 - val_f1_score: 0.9137\n",
      "Epoch 97/100\n",
      "256/256 [==============================] - 424s 2s/step - loss: 0.0213 - acc: 0.9930 - auc: 0.9997 - f1_score: 0.9930 - val_loss: 0.4217 - val_acc: 0.9028 - val_auc: 0.9740 - val_f1_score: 0.8995\n",
      "Epoch 98/100\n",
      "256/256 [==============================] - 425s 2s/step - loss: 0.0207 - acc: 0.9937 - auc: 0.9995 - f1_score: 0.9936 - val_loss: 0.1984 - val_acc: 0.9497 - val_auc: 0.9902 - val_f1_score: 0.9492\n",
      "Epoch 99/100\n",
      "256/256 [==============================] - 423s 2s/step - loss: 0.0125 - acc: 0.9958 - auc: 0.9998 - f1_score: 0.9958 - val_loss: 0.1940 - val_acc: 0.9536 - val_auc: 0.9899 - val_f1_score: 0.9534\n",
      "Epoch 100/100\n",
      "256/256 [==============================] - 424s 2s/step - loss: 0.0131 - acc: 0.9967 - auc: 0.9998 - f1_score: 0.9967 - val_loss: 0.3043 - val_acc: 0.9307 - val_auc: 0.9824 - val_f1_score: 0.9296\n"
     ]
    },
    {
     "data": {
      "text/plain": [
       "<keras.src.callbacks.History at 0x21800180e10>"
      ]
     },
     "execution_count": 16,
     "metadata": {},
     "output_type": "execute_result"
    }
   ],
   "source": [
    "#Fit the training data to the model and validate it using the validation data\n",
    "model.fit(train_data, train_labels, validation_data=(val_data, val_labels),callbacks=my_callback,epochs=100)"
   ]
  },
  {
   "cell_type": "code",
   "execution_count": 17,
   "metadata": {
    "scrolled": true
   },
   "outputs": [
    {
     "name": "stdout",
     "output_type": "stream",
     "text": [
      "Model: \"cnn_model\"\n",
      "_________________________________________________________________\n",
      " Layer (type)                Output Shape              Param #   \n",
      "=================================================================\n",
      " conv2d (Conv2D)             (None, 176, 176, 16)      448       \n",
      "                                                                 \n",
      " conv2d_1 (Conv2D)           (None, 176, 176, 16)      2320      \n",
      "                                                                 \n",
      " max_pooling2d (MaxPooling2  (None, 88, 88, 16)        0         \n",
      " D)                                                              \n",
      "                                                                 \n",
      " sequential (Sequential)     (None, 44, 44, 32)        14016     \n",
      "                                                                 \n",
      " sequential_1 (Sequential)   (None, 22, 22, 64)        55680     \n",
      "                                                                 \n",
      " sequential_2 (Sequential)   (None, 11, 11, 128)       221952    \n",
      "                                                                 \n",
      " dropout (Dropout)           (None, 11, 11, 128)       0         \n",
      "                                                                 \n",
      " sequential_3 (Sequential)   (None, 5, 5, 256)         886272    \n",
      "                                                                 \n",
      " dropout_1 (Dropout)         (None, 5, 5, 256)         0         \n",
      "                                                                 \n",
      " flatten (Flatten)           (None, 6400)              0         \n",
      "                                                                 \n",
      " sequential_4 (Sequential)   (None, 512)               3279360   \n",
      "                                                                 \n",
      " sequential_5 (Sequential)   (None, 128)               66176     \n",
      "                                                                 \n",
      " sequential_6 (Sequential)   (None, 64)                8512      \n",
      "                                                                 \n",
      " dense_3 (Dense)             (None, 4)                 260       \n",
      "                                                                 \n",
      "=================================================================\n",
      "Total params: 4534996 (17.30 MB)\n",
      "Trainable params: 4532628 (17.29 MB)\n",
      "Non-trainable params: 2368 (9.25 KB)\n",
      "_________________________________________________________________\n"
     ]
    }
   ],
   "source": [
    "model.summary()"
   ]
  },
  {
   "cell_type": "code",
   "execution_count": 18,
   "metadata": {},
   "outputs": [
    {
     "name": "stderr",
     "output_type": "stream",
     "text": [
      "C:\\Users\\chris\\anaconda3\\Lib\\site-packages\\keras\\src\\engine\\training.py:3079: UserWarning: You are saving your model as an HDF5 file via `model.save()`. This file format is considered legacy. We recommend using instead the native Keras format, e.g. `model.save('my_model.keras')`.\n",
      "  saving_api.save_model(\n"
     ]
    }
   ],
   "source": [
    "#save model\n",
    "model.save('adp.h5')"
   ]
  },
  {
   "cell_type": "code",
   "execution_count": 19,
   "metadata": {},
   "outputs": [
    {
     "name": "stdout",
     "output_type": "stream",
     "text": [
      "256/256 [==============================] - 60s 233ms/step - loss: 0.0035 - acc: 0.9987 - auc: 1.0000 - f1_score: 0.9987\n",
      "64/64 [==============================] - 16s 249ms/step - loss: 0.3043 - acc: 0.9307 - auc: 0.9824 - f1_score: 0.9296\n",
      "80/80 [==============================] - 18s 222ms/step - loss: 0.2650 - acc: 0.9391 - auc: 0.9832 - f1_score: 0.9387\n",
      "Training Accuracy: 99.87%\n",
      "Validation Accuracy: 93.07%\n",
      "Testing Accuracy: 93.91%\n"
     ]
    }
   ],
   "source": [
    "# Evaluating the model on the data\n",
    "\n",
    "train_scores = model.evaluate(train_data, train_labels)\n",
    "val_scores = model.evaluate(val_data, val_labels)\n",
    "test_scores = model.evaluate(test_data, test_labels)\n",
    "\n",
    "print(\"Training Accuracy: %.2f%%\"%(train_scores[1] * 100))\n",
    "print(\"Validation Accuracy: %.2f%%\"%(val_scores[1] * 100))\n",
    "print(\"Testing Accuracy: %.2f%%\"%(test_scores[1] * 100))"
   ]
  },
  {
   "cell_type": "code",
   "execution_count": 20,
   "metadata": {},
   "outputs": [
    {
     "name": "stdout",
     "output_type": "stream",
     "text": [
      "80/80 [==============================] - 20s 228ms/step\n"
     ]
    }
   ],
   "source": [
    "#Predicting the test data\n",
    "pred = model.predict(test_data)"
   ]
  },
  {
   "cell_type": "code",
   "execution_count": 21,
   "metadata": {},
   "outputs": [
    {
     "name": "stdout",
     "output_type": "stream",
     "text": [
      "              precision    recall  f1-score   support\n",
      "\n",
      "           0       0.91      1.00      0.95       639\n",
      "           1       1.00      1.00      1.00       635\n",
      "           2       0.92      0.88      0.90       662\n",
      "           3       0.93      0.88      0.90       624\n",
      "\n",
      "    accuracy                           0.94      2560\n",
      "   macro avg       0.94      0.94      0.94      2560\n",
      "weighted avg       0.94      0.94      0.94      2560\n",
      "\n"
     ]
    }
   ],
   "source": [
    "pred_ls = np.argmax(pred, axis=1)\n",
    "test_ls = np.argmax(test_labels, axis=1)\n",
    "print(classification_report(test_ls, pred_ls))"
   ]
  },
  {
   "cell_type": "code",
   "execution_count": 22,
   "metadata": {},
   "outputs": [
    {
     "data": {
      "text/plain": [
       "array([[638,   0,   1,   0],\n",
       "       [  0, 635,   0,   0],\n",
       "       [ 39,   0, 585,  38],\n",
       "       [ 25,   0,  53, 546]], dtype=int64)"
      ]
     },
     "execution_count": 22,
     "metadata": {},
     "output_type": "execute_result"
    }
   ],
   "source": [
    "confusion_matrix(test_ls, pred_ls)"
   ]
  },
  {
   "cell_type": "markdown",
   "metadata": {},
   "source": [
    "### Testing the Model"
   ]
  },
  {
   "cell_type": "code",
   "execution_count": 24,
   "metadata": {},
   "outputs": [],
   "source": [
    "model = load_model(r\"adp.h5\",compile=False)"
   ]
  },
  {
   "cell_type": "code",
   "execution_count": 45,
   "metadata": {},
   "outputs": [
    {
     "data": {
      "image/png": "[encoded data removed]",
      "text/plain": [
       "<PIL.Image.Image image mode=RGB size=176x176>"
      ]
     },
     "execution_count": 45,
     "metadata": {},
     "output_type": "execute_result"
    }
   ],
   "source": [
    "img = image.load_img(r\"Dataset\\NonDemented\\32 (54).jpg\",target_size=(176,176))\n",
    "img"
   ]
  },
  {
   "cell_type": "code",
   "execution_count": 46,
   "metadata": {},
   "outputs": [],
   "source": [
    "x = image.img_to_array(img)\n",
    "x = np.expand_dims(x,axis=0)"
   ]
  },
  {
   "cell_type": "code",
   "execution_count": 50,
   "metadata": {},
   "outputs": [
    {
     "name": "stdout",
     "output_type": "stream",
     "text": [
      "1/1 [==============================] - 0s 194ms/step\n"
     ]
    },
    {
     "data": {
      "text/plain": [
       "'NonDemented'"
      ]
     },
     "execution_count": 50,
     "metadata": {},
     "output_type": "execute_result"
    }
   ],
   "source": [
    "pred = model.predict(x)\n",
    "pred_class = np.argmax(pred,axis=1)\n",
    "index = ['MildDemented','ModerateDemented','NonDemented','VeryMildDemented']\n",
    "result = str(index[pred_class[0]])\n",
    "result"
   ]
  }
 ],
 "metadata": {
  "accelerator": "TPU",
  "colab": {
   "provenance": []
  },
  "kernelspec": {
   "display_name": "Python 3 (ipykernel)",
   "language": "python",
   "name": "python3"
  },
  "language_info": {
   "codemirror_mode": {
    "name": "ipython",
    "version": 3
   },
   "file_extension": ".py",
   "mimetype": "text/x-python",
   "name": "python",
   "nbconvert_exporter": "python",
   "pygments_lexer": "ipython3",
   "version": "3.11.5"
  }
 },
 "nbformat": 4,
 "nbformat_minor": 1
}
